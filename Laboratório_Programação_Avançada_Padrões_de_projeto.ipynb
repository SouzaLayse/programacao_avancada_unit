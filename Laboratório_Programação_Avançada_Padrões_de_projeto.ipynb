{
  "nbformat": 4,
  "nbformat_minor": 0,
  "metadata": {
    "colab": {
      "name": "Laboratório - Programação Avançada - Padrões de projeto.ipynb",
      "provenance": [],
      "collapsed_sections": []
    },
    "kernelspec": {
      "name": "python3",
      "display_name": "Python 3"
    },
    "language_info": {
      "name": "python"
    }
  },
  "cells": [
    {
      "cell_type": "markdown",
      "source": [
        "**UNIT - Curso de Computação**\n",
        "\n",
        "**Programação Avançada**\n",
        "\n",
        "Profª. Layse Santos Souza"
      ],
      "metadata": {
        "id": "83SR_mODIBnE"
      }
    },
    {
      "cell_type": "markdown",
      "source": [
        "#**Fundamentos de Padrões de Projeto**"
      ],
      "metadata": {
        "id": "wqPhs9iVII3S"
      }
    },
    {
      "cell_type": "markdown",
      "metadata": {
        "id": "Xv2DQJlnUYw5"
      },
      "source": [
        "\n",
        "**Padrões Factory** \n",
        "\n",
        "\n",
        "*   *Factory Method:* Definir uma interface para criar um objeto mas deixa que subclasses decidam que classe instanciar.\n",
        "*   *Abstract Factory:* Prover interface para criar famílias de objetos relacionados ou dependentes sem especificar suas classes concretas.\n",
        "\n"
      ]
    },
    {
      "cell_type": "code",
      "metadata": {
        "id": "7fjkVt-5UWCP"
      },
      "source": [
        "# Importação de metaclasse para criação de classe abstrata\n",
        "from abc import ABCMeta, abstractmethod\n",
        "\n",
        "#Criando uma classe abstrata\n",
        "class ExemploAbstrato(metaclass = ABCMeta):\n",
        " \n",
        "  @abstractmethod\n",
        "  def exibir(self):\n",
        "    pass\n",
        "\n",
        "#Criando classe concreta herdando caracteristicas da classe abstrata\n",
        "class ExemploOiConcreto(ExemploAbstrato):\n",
        "  def exibir(self):\n",
        "    print(\"Oi, tudo bem?\")\n",
        "\n",
        "class ExemploOlaMundoConcreto(ExemploAbstrato):\n",
        "  def exibir(self):\n",
        "    print(\"Ola mundo!\")\n",
        "\n",
        "#Criando a fabrica simples\n",
        "class FabricaSimples(object):\n",
        "  def construir_exibir(self, object_type):\n",
        "    return eval(object_type)().exibir()"
      ],
      "execution_count": 7,
      "outputs": []
    },
    {
      "cell_type": "code",
      "metadata": {
        "colab": {
          "base_uri": "https://localhost:8080/"
        },
        "id": "TaaiqrJGV0fg",
        "outputId": "87ae2ef0-08e5-4389-cce3-d6d661c8ef0e"
      },
      "source": [
        "# Executando a Fabrica\n",
        "fabrica = FabricaSimples()\n",
        "executar = \"ExemploOlaMundoConcreto\"\n",
        "fabrica.construir_exibir(executar)\n",
        "executar = \"ExemploOiConcreto\"\n",
        "fabrica.construir_exibir(executar)"
      ],
      "execution_count": 8,
      "outputs": [
        {
          "output_type": "stream",
          "name": "stdout",
          "text": [
            "Ola mundo!\n",
            "Oi, tudo bem?\n"
          ]
        }
      ]
    },
    {
      "cell_type": "markdown",
      "metadata": {
        "id": "TEdGH4blvx-T"
      },
      "source": [
        "# Factory Method"
      ]
    },
    {
      "cell_type": "code",
      "metadata": {
        "id": "tOg1jx9hqXAh"
      },
      "source": [
        "# Factory Method\n",
        "class Secao(metaclass = ABCMeta):\n",
        "\n",
        "  @abstractmethod\n",
        "  def descricao(self):\n",
        "    pass\n",
        "\n",
        "class SecaoPessoal(Secao):\n",
        "  def descricao(self):\n",
        "    print(\"Seção pessoal\")\n",
        "\n",
        "class SecaoPublica(Secao):\n",
        "  def descricao(self):\n",
        "    print(\"Seção pública\")\n",
        "    \n",
        "class SecaoPrivada(Secao):\n",
        "  def descricao(self):\n",
        "    print(\"Seção privada\")\n",
        "\n",
        "class CriadorPerfil(metaclass = ABCMeta):\n",
        "  def __init__(self):\n",
        "    self.secoes = []\n",
        "    self.criarPerfil()\n",
        "  @abstractmethod\n",
        "  def criarPerfil(self):\n",
        "    pass\n",
        "  def getSecao(self):\n",
        "    return self.secoes\n",
        "  def addSecao(self, secao):\n",
        "    self.secoes.append(secao)\n",
        "  \n",
        "class Linkedin(CriadorPerfil):\n",
        "  def criarPerfil(self):\n",
        "    self.addSecao(SecaoPrivada())\n",
        "    self.addSecao(SecaoPublica())\n",
        "\n",
        "class Facebook(CriadorPerfil):\n",
        "  def criarPerfil(self):\n",
        "    self.addSecao(SecaoPessoal())\n",
        "    self.addSecao(SecaoPublica())\n",
        "\n",
        "class Twitter(CriadorPerfil):\n",
        "  def criarPerfil(self):\n",
        "    self.addSecao(SecaoPessoal())\n",
        "    self.addSecao(SecaoPrivada())\n",
        "    self.addSecao(SecaoPublica())\n",
        "  "
      ],
      "execution_count": 3,
      "outputs": []
    },
    {
      "cell_type": "code",
      "metadata": {
        "colab": {
          "base_uri": "https://localhost:8080/"
        },
        "id": "FsQ_4IOxsxKn",
        "outputId": "15c9453f-37f8-4d35-dcc3-709d5c3bbb8b"
      },
      "source": [
        "tipo_perfil = \"Linkedin\"\n",
        "perfil = eval(tipo_perfil)()\n",
        "print(\"Criando perfil\", type(perfil).__name__)\n",
        "\n",
        "tipo_perfil2 = \"Facebook\"\n",
        "perfil2 = eval(tipo_perfil2)()\n",
        "print(\"Criando perfil\", type(perfil2).__name__)\n",
        "\n",
        "tipo_perfil3 = \"Twitter\"\n",
        "perfil3 = eval(tipo_perfil3)()\n",
        "print(\"Criando perfil\", type(perfil3).__name__)"
      ],
      "execution_count": 4,
      "outputs": [
        {
          "output_type": "stream",
          "name": "stdout",
          "text": [
            "Criando perfil Linkedin\n",
            "Criando perfil Facebook\n",
            "Criando perfil Twitter\n"
          ]
        }
      ]
    },
    {
      "cell_type": "markdown",
      "metadata": {
        "id": "fHmRTZXtvrcz"
      },
      "source": [
        "# Abstract Factory"
      ]
    },
    {
      "cell_type": "code",
      "metadata": {
        "id": "ZNaU1FJPvrEb"
      },
      "source": [
        "class FabricaPizza(metaclass = ABCMeta):\n",
        "  \n",
        "  @abstractmethod\n",
        "  def criarPizzaVeg(self):\n",
        "    pass\n",
        "\n",
        "  @abstractmethod\n",
        "  def criarPizzaNVeg(self):\n",
        "    pass\n",
        "\n",
        "class PizzariaPortugal(FabricaPizza):\n",
        "  def criarPizzaVeg(self):\n",
        "    return PizzaPortuguesaVegetariana()\n",
        "\n",
        "  def criarPizzaNVeg(self):\n",
        "    return PizzaPortuguesa()\n",
        "    \n",
        "class PizzariaIndia(FabricaPizza):\n",
        "  def criarPizzaVeg(self):\n",
        "    return PizzaIndianaVegetariana()\n",
        "\n",
        "  def criarPizzaNVeg(self):\n",
        "    return PizzaIndianaFranco()\n",
        "\n",
        "class PizzaVeg(metaclass = ABCMeta):\n",
        "  @abstractmethod\n",
        "  def prepare(self, PizzaVeg):\n",
        "    pass\n",
        "\n",
        "class PizzaNVeg(metaclass = ABCMeta):\n",
        "  @abstractmethod\n",
        "  def serve(self, PizzaVeg):\n",
        "    pass\n",
        "\n",
        "class PizzaIndianaVegetariana(PizzaVeg):\n",
        "  def prepare(self):\n",
        "    print(\"Preparando\", type(self).__name__)\n",
        "\n",
        "class PizzaIndianaFranco(PizzaNVeg):\n",
        "  def serve(self, PizzaVeg):\n",
        "    print(\"Preparando\", type(self).__name__, \"Servida com frango\", type(PizzaVeg).__name__)\n",
        "\n",
        "class PizzaPortuguesaVegetariana(PizzaVeg):\n",
        "  def prepare(self):\n",
        "    print(\"Preparando\", type(self).__name__)\n",
        "\n",
        "class PizzaPortuguesa(PizzaNVeg):\n",
        "  def serve(self, PizzaVeg):\n",
        "    print(\"Preparando\", type(self).__name__, \"Servida com frango\", type(PizzaVeg).__name__)\n",
        "  \n",
        "    "
      ],
      "execution_count": 5,
      "outputs": []
    },
    {
      "cell_type": "code",
      "metadata": {
        "colab": {
          "base_uri": "https://localhost:8080/"
        },
        "id": "T-XNX-0FycsR",
        "outputId": "410c66b3-4ca3-43ac-e17e-de86473e6b52"
      },
      "source": [
        "class LojaPizza:\n",
        "  \n",
        "  def __init__(self):\n",
        "    pass\n",
        "\n",
        "  def fazerPizzas(self):\n",
        "    for fabrica in [PizzariaPortugal(), PizzariaIndia()]:\n",
        "      self.fabrica = fabrica\n",
        "      self.criarPizzaVeg = self.fabrica.criarPizzaVeg()\n",
        "      self.criarPizzaNVeg = self.fabrica.criarPizzaNVeg()\n",
        "      self.criarPizzaVeg.prepare()\n",
        "      self.criarPizzaNVeg.serve(self.criarPizzaNVeg)\n",
        "\n",
        "pizza = LojaPizza()\n",
        "pizza.fazerPizzas()\n",
        "  "
      ],
      "execution_count": 6,
      "outputs": [
        {
          "output_type": "stream",
          "name": "stdout",
          "text": [
            "Preparando PizzaPortuguesaVegetariana\n",
            "Preparando PizzaPortuguesa Servida com frango PizzaPortuguesa\n",
            "Preparando PizzaIndianaVegetariana\n",
            "Preparando PizzaIndianaFranco Servida com frango PizzaIndianaFranco\n"
          ]
        }
      ]
    }
  ]
}