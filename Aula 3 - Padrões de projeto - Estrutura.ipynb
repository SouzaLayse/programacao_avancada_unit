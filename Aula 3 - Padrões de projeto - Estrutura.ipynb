{
  "nbformat": 4,
  "nbformat_minor": 0,
  "metadata": {
    "colab": {
      "name": "Padrões de projeto - Estrutura",
      "provenance": [],
      "collapsed_sections": []
    },
    "kernelspec": {
      "name": "python3",
      "display_name": "Python 3"
    },
    "language_info": {
      "name": "python"
    }
  },
  "cells": [
    {
      "cell_type": "markdown",
      "source": [
        "**UNIT - Curso de Computação**\n",
        "\n",
        "**Programação Avançada**\n",
        "\n",
        "Profª. Layse Santos Souza"
      ],
      "metadata": {
        "id": "SFvPolUCef4-"
      }
    },
    {
      "cell_type": "markdown",
      "source": [
        "# **Padrões de Projeto - Estruturais**\n"
      ],
      "metadata": {
        "id": "Ne0pvt7celw0"
      }
    },
    {
      "cell_type": "markdown",
      "source": [
        "* ADAPTER"
      ],
      "metadata": {
        "id": "jdSBneGdZQ9D"
      }
    },
    {
      "cell_type": "markdown",
      "source": [
        "Cria uma \"ponte\" entre duas interfaces incompatíveis\n"
      ],
      "metadata": {
        "id": "ZakwJNEUii7W"
      }
    },
    {
      "cell_type": "markdown",
      "source": [
        "**Exemplo:** *Mostrar informações de diferentes veículos*"
      ],
      "metadata": {
        "id": "lafQIciYiqcy"
      }
    },
    {
      "cell_type": "code",
      "source": [
        "# classe moto\n",
        "class Moto:\n",
        "\tdef __init__(self):\n",
        "\t\tself.name = \"Moto\"\n",
        "\n",
        "\tdef duasRodas(self):\n",
        "\t\treturn \"duas rodas\"\n",
        "\n",
        "# classe carro\n",
        "class Carro:\n",
        "\tdef __init__(self):\n",
        "\t\tself.name = \"Carro\"\n",
        "\n",
        "\tdef quatroRodas(self):\n",
        "\t\treturn \"quadro rodas\"\n",
        "\n",
        "# classe caminhao\n",
        "class Caminhao:\n",
        "\tdef __init__(self):\n",
        "\t\tself.name = \"Caminhão\"\n",
        "\n",
        "\tdef oitoRodas(self):\n",
        "\t\treturn \"oito rodas\"\n",
        "\n",
        "# classe adapter -> adapta um objeto por meio da substituição de métodos\n",
        "class Adapter:\n",
        "\n",
        "  # definindo os métodos adaptados no dict do objeto\n",
        "\tdef __init__(self, objeto, **metodosAdaptados):\n",
        "\t\tself.objeto = objeto\n",
        "\t\tself.__dict__.update(metodosAdaptados)\n",
        "\n",
        "  #passando as chamadas não adptadas para o objeto\n",
        "\tdef __getattr__(self, attr):\n",
        "\t\treturn getattr(self.objeto, attr)\n",
        "\n",
        "  # imprimindo o objeto\n",
        "\tdef original_dict(self):\n",
        "\t\treturn self.objeto.__dict__\n"
      ],
      "metadata": {
        "id": "zXSE1ayliPKh"
      },
      "execution_count": null,
      "outputs": []
    },
    {
      "cell_type": "code",
      "source": [
        "# main\n",
        "if __name__ == \"__main__\":\n",
        "\n",
        "\t# lista dos objetos\n",
        "\tlistaObjetos = []\n",
        "\n",
        "\tmoto = Moto()\n",
        "\tlistaObjetos.append(Adapter(moto, wheels = moto.duasRodas))\n",
        "\n",
        "\tcarro = Carro()\n",
        "\tlistaObjetos.append(Adapter(carro, wheels = carro.quatroRodas))\n",
        "\n",
        "\tcaminhao = Caminhao()\n",
        "\tlistaObjetos.append(Adapter(caminhao, wheels = caminhao.oitoRodas))\n",
        "\n",
        "\tfor objeto in listaObjetos:\n",
        "\t  print(\"A {0} é um veículo de {1} \".format(objeto.name, objeto.wheels()))"
      ],
      "metadata": {
        "colab": {
          "base_uri": "https://localhost:8080/"
        },
        "id": "4AR5zSgbiSjr",
        "outputId": "65c84df4-9a90-424c-ff7d-82a99f958269"
      },
      "execution_count": null,
      "outputs": [
        {
          "output_type": "stream",
          "name": "stdout",
          "text": [
            "A Moto é um veículo de duas rodas \n",
            "A Carro é um veículo de quadro rodas \n",
            "A Caminhão é um veículo de oito rodas \n"
          ]
        }
      ]
    },
    {
      "cell_type": "markdown",
      "source": [
        "* BRIDGE"
      ],
      "metadata": {
        "id": "32OJlb8YpdXJ"
      }
    },
    {
      "cell_type": "markdown",
      "source": [
        "Utilizado quando é desejável que uma interface (abstração) possa variar independentemente das suas implementações."
      ],
      "metadata": {
        "id": "zp375FO7uN0Q"
      }
    },
    {
      "cell_type": "markdown",
      "source": [
        "**Exemplo:** *Interação entre um controle remoto e uma TV*"
      ],
      "metadata": {
        "id": "rjD2MIUpuRqj"
      }
    },
    {
      "cell_type": "code",
      "source": [
        "# classe de abstração do controle remoto\n",
        "class AbstracaoControleRemoto:\n",
        "\n",
        "    def __init__(self, tv):\n",
        "        self._tv = tv\n",
        "\n",
        "    def ligado(self):\n",
        "        self._tv.ligado()\n",
        "\n",
        "    def desligado(self):\n",
        "        self._tv.desligado()\n",
        "\n",
        "    def selecionaCanal(self, canal):\n",
        "        self._tv.escolhaCanal(canal)"
      ],
      "metadata": {
        "id": "4ourj1GCtdGI"
      },
      "execution_count": null,
      "outputs": []
    },
    {
      "cell_type": "code",
      "source": [
        "# classe controle remoto\n",
        "class ControleRemoto(AbstracaoControleRemoto):\n",
        "\n",
        "    canalEscolhido = 0\n",
        "\n",
        "    def ligado(self):\n",
        "        print(\"A TV está ligada\")\n",
        "\n",
        "    def desligado(self):\n",
        "        print(\"A TV está desligada\")\n",
        "\n",
        "    def proximoCanal(self):\n",
        "        self._tv.escolhaCanal(canalEscolhido + 1)\n",
        "\n",
        "    def canalAnterior(self):\n",
        "        self._tv.escolhaCanal(canalEscolhido - 1)"
      ],
      "metadata": {
        "id": "vIIl0w0JteX-"
      },
      "execution_count": null,
      "outputs": []
    },
    {
      "cell_type": "code",
      "source": [
        "# classe tv\n",
        "import abc\n",
        "\n",
        "class TV(metaclass=abc.ABCMeta):\n",
        "\n",
        "    @abc.abstractmethod\n",
        "    def ligada(self):\n",
        "        pass\n",
        "\n",
        "    @abc.abstractmethod\n",
        "    def desligada(self):\n",
        "        pass\n",
        "\n",
        "    @abc.abstractmethod\n",
        "    def escolhaCanal(self, canal):\n",
        "        pass"
      ],
      "metadata": {
        "id": "Ce5qaLQYtqWl"
      },
      "execution_count": null,
      "outputs": []
    },
    {
      "cell_type": "code",
      "source": [
        "# classe implementor TV\n",
        "class ImplementorTV(TV):\n",
        "\n",
        "    def ligada(self):\n",
        "        print(\"A TV está ligada\")\n",
        "\n",
        "    def desligada(self):\n",
        "        print(\"A TV está desligada\")\n",
        "\n",
        "    def escolhaCanal(self, canal):\n",
        "        print(\"Canal {}\".format(canal))"
      ],
      "metadata": {
        "id": "HH9byz5StwVW"
      },
      "execution_count": null,
      "outputs": []
    },
    {
      "cell_type": "code",
      "source": [
        "# main\n",
        "if __name__ == \"__main__\":\n",
        "  controle = ImplementorTV()\n",
        "  abstracao = ControleRemoto(ImplementorTV)\n",
        "  abstracaoCR = AbstracaoControleRemoto(abstracao)\n",
        "  abstracaoCR.ligado()\n",
        "  controle.escolhaCanal(5)"
      ],
      "metadata": {
        "colab": {
          "base_uri": "https://localhost:8080/"
        },
        "id": "J_JNZIK3t6Ho",
        "outputId": "a3f31eb7-074c-4a56-ad00-2cd25bf51d51"
      },
      "execution_count": null,
      "outputs": [
        {
          "output_type": "stream",
          "name": "stdout",
          "text": [
            "A TV está ligada\n",
            "Canal 5\n"
          ]
        }
      ]
    },
    {
      "cell_type": "markdown",
      "source": [
        "* COMPOSITE"
      ],
      "metadata": {
        "id": "vMrbOP4_7G3q"
      }
    },
    {
      "cell_type": "markdown",
      "source": [
        "Compor objetos em estruturas de árvore para representar hierarquias parciais. Logo, permite aos clientes tratar objetos individuais e composições de objetos uniformemente."
      ],
      "metadata": {
        "id": "bVVFKj-17UNa"
      }
    },
    {
      "cell_type": "markdown",
      "source": [
        "**Exemplo:** *Cardápio de um restaurante delivery*"
      ],
      "metadata": {
        "id": "bvkjz3Ba7VES"
      }
    },
    {
      "cell_type": "code",
      "source": [
        "# classe cardapio componente\n",
        "import abc\n",
        "\n",
        "class CardapioComponente(metaclass=abc.ABCMeta):\n",
        "\n",
        "    @abc.abstractmethod\n",
        "    def getNome(self):\n",
        "        raise NotImplementedError\n",
        "\n",
        "    @abc.abstractmethod\n",
        "    def getDescricao(self):\n",
        "        raise NotImplementedError\n",
        "\n",
        "    @abc.abstractmethod\n",
        "    def getPreco(self):\n",
        "        raise NotImplementedError\n",
        "\n",
        "    @abc.abstractmethod\n",
        "    def vegetariano(self):\n",
        "        raise NotImplementedError"
      ],
      "metadata": {
        "id": "2LfyWRbj-ZJA"
      },
      "execution_count": null,
      "outputs": []
    },
    {
      "cell_type": "code",
      "source": [
        "# classe cardapio\n",
        "class Cardapio(CardapioComponente):\n",
        "\n",
        "    def __init__(self):\n",
        "        self.filhos = set()\n",
        "\n",
        "    def getNome(self):\n",
        "        nome = \"\"\n",
        "        for filho in self.filhos:\n",
        "            nome += filho.getNome()\n",
        "        return nome\n",
        "\n",
        "    def getDescricao(self):\n",
        "        descricao = \"\"\n",
        "        for filho in self.filhos:\n",
        "            descricao += filho.getDescricao()\n",
        "        return descricao\n",
        "\n",
        "    def getPreco(self):\n",
        "        preco = 0\n",
        "        for filho in self.filhos:\n",
        "            preco += filho.getPreco()\n",
        "        return preco\n",
        "\n",
        "    def vegetariano(self):\n",
        "        vegetariano = False\n",
        "        for filho in self.filhos:\n",
        "            vegetariano += filho.vegetariano()\n",
        "        return vegetariano\n",
        "\n",
        "    def add(self, componente):\n",
        "        self.filhos.add(componente)\n",
        "\n",
        "    def remove(self, componente):\n",
        "        self.filhos.discard(componente)"
      ],
      "metadata": {
        "id": "Vd1pX28z-pP8"
      },
      "execution_count": null,
      "outputs": []
    },
    {
      "cell_type": "code",
      "source": [
        "# classe refeicao\n",
        "class Refeicao(Cardapio):\n",
        "\n",
        "    def getNome(self):\n",
        "        return \"Pasta\"\n",
        "\n",
        "    def getDescricao(self):\n",
        "        return \"Espaguete à bolonhesa\"\n",
        "\n",
        "    def vegetariano(self):\n",
        "        return False\n",
        "\n",
        "    def getPreco(self):\n",
        "        return 45.00"
      ],
      "metadata": {
        "id": "Rb8Ws4R--uU6"
      },
      "execution_count": null,
      "outputs": []
    },
    {
      "cell_type": "code",
      "source": [
        "# main\n",
        "if __name__ == '__main__':\n",
        "  todosCardapios = Cardapio()\n",
        "  refeicao = Refeicao()\n",
        "\n",
        "  todosCardapios.add(refeicao)\n",
        "\n",
        "  print(\"{}\".format(todosCardapios.getNome()))\n",
        "  print(\"{}\".format(todosCardapios.getDescricao()))\n",
        "  print(\"{}\".format(todosCardapios.vegetariano()))\n",
        "  print(\"{}\".format(todosCardapios.getPreco()))"
      ],
      "metadata": {
        "colab": {
          "base_uri": "https://localhost:8080/"
        },
        "id": "ktBppmXg-3tL",
        "outputId": "382da505-d957-4f86-abed-b260160dcf2f"
      },
      "execution_count": null,
      "outputs": [
        {
          "output_type": "stream",
          "name": "stdout",
          "text": [
            "Pasta\n",
            "Espaguete à bolonhesa\n",
            "0\n",
            "45.0\n"
          ]
        }
      ]
    },
    {
      "cell_type": "markdown",
      "source": [
        "* DECORATOR"
      ],
      "metadata": {
        "id": "YuPwMZ6XVYJM"
      }
    },
    {
      "cell_type": "markdown",
      "source": [
        "Agregar dinamicamente responsabilidades adicionais a um objeto. Logo, fornece uma alternativa flexível ao uso de subclasses para extensão de funcionalidades.\n"
      ],
      "metadata": {
        "id": "_rA4dzsWVaFw"
      }
    },
    {
      "cell_type": "markdown",
      "source": [
        "**Exemplo:** *Ferramenta de edição de texto (negrito, itálico e sublinhado)*"
      ],
      "metadata": {
        "id": "_ioDgzDwiH0T"
      }
    },
    {
      "cell_type": "code",
      "source": [
        "# classe texto escrito\n",
        "class TextoEscrito:\n",
        "\n",
        "\tdef __init__(self, texto):\n",
        "\t\tself.texto = texto\n",
        "\n",
        "\tdef processamento(self):\n",
        "\t\treturn self.texto\n"
      ],
      "metadata": {
        "id": "HEyUE2u6h66G"
      },
      "execution_count": 10,
      "outputs": []
    },
    {
      "cell_type": "code",
      "source": [
        "# classe sublinhado separado\n",
        "class SublinhadoSeparado(TextoEscrito): # separa em <u>\n",
        "\n",
        "\tdef __init__(self, separando):\n",
        "\t\tself.separando = separando\n",
        "\n",
        "\tdef processamento(self):\n",
        "\t\treturn \"<u>{}</u>\".format(self.separando.processamento())"
      ],
      "metadata": {
        "id": "ElZ6HlRUotAg"
      },
      "execution_count": 11,
      "outputs": []
    },
    {
      "cell_type": "code",
      "source": [
        "# classe italico separado\n",
        "class ItalicoSeparado(TextoEscrito): # separa em <i>\n",
        "\n",
        "\tdef __init__(self, separando):\n",
        "\t\tself.separando = separando\n",
        "\n",
        "\tdef processamento(self):\n",
        "\t\treturn \"<i>{}</i>\".format(self.separando.processamento())"
      ],
      "metadata": {
        "id": "LXm-ukzUow52"
      },
      "execution_count": 12,
      "outputs": []
    },
    {
      "cell_type": "code",
      "source": [
        "# classe negrito separado\n",
        "class NegritoSeparado(TextoEscrito): # separa em <b>\n",
        "\n",
        "\tdef __init__(self, separando):\n",
        "\t\tself.separando = separando\n",
        "\n",
        "\tdef processamento(self):\n",
        "\t\treturn \"<b>{}</b>\".format(self.separando.processamento())"
      ],
      "metadata": {
        "id": "wSyvd9mepHin"
      },
      "execution_count": 13,
      "outputs": []
    },
    {
      "cell_type": "code",
      "source": [
        "# main\n",
        "if __name__ == '__main__':\n",
        "\n",
        " antes = TextoEscrito(\"ProgramacaoAvancada\")\n",
        " depois = ItalicoSeparado(SublinhadoSeparado(NegritoSeparado(antes)))\n",
        " \n",
        " print(\"ANTES :\", antes.processamento())\n",
        " print(\"DEPOIS :\", depois.processamento())"
      ],
      "metadata": {
        "colab": {
          "base_uri": "https://localhost:8080/"
        },
        "id": "lTCCgjoYh8kV",
        "outputId": "93ee380e-ff9d-4631-9ea3-59ac6b323eb3"
      },
      "execution_count": 15,
      "outputs": [
        {
          "output_type": "stream",
          "name": "stdout",
          "text": [
            "ANTES : ProgramacaoAvancada\n",
            "DEPOIS : <i><u><b>ProgramacaoAvancada</b></u></i>\n"
          ]
        }
      ]
    },
    {
      "cell_type": "markdown",
      "source": [
        "* FACADE\n",
        "\n",
        "\n"
      ],
      "metadata": {
        "id": "1IRlAGwMe5Ua"
      }
    },
    {
      "cell_type": "markdown",
      "source": [
        "Uma interface externa de um sistema complexo, composto por vários subsistemas que fornece uma maneira mais fácil de acessar métodos dos sistemas subjacentes, fornecendo um único ponto de entrada."
      ],
      "metadata": {
        "id": "eqjVAsD91tVU"
      }
    },
    {
      "cell_type": "markdown",
      "source": [
        "**Exemplo:** *Máquina de lavar*"
      ],
      "metadata": {
        "id": "6HPK6pFG3bOP"
      }
    },
    {
      "cell_type": "code",
      "source": [
        "# classe lavando -> 1º subsistema\n",
        "class Lavando:\n",
        "\tdef lavar(self):\n",
        "\t\tprint(\"Lavando...\")"
      ],
      "metadata": {
        "id": "A4Ej1KXZ5sA_"
      },
      "execution_count": 16,
      "outputs": []
    },
    {
      "cell_type": "code",
      "source": [
        "# classe enxaguando -> 2º subsistema\n",
        "class Enxaguando:\n",
        "\tdef enxaguar(self):\n",
        "\t\tprint(\"Enxaguando...\")"
      ],
      "metadata": {
        "id": "Zd4KcDyrt7zu"
      },
      "execution_count": 17,
      "outputs": []
    },
    {
      "cell_type": "code",
      "source": [
        "# classe centrifugando -> 3º subsistema\n",
        "class Centrifugando:\n",
        "\tdef centrifugar(self):\n",
        "\t\tprint(\"Centrifugando...\")"
      ],
      "metadata": {
        "id": "1SIIr6BWuAxF"
      },
      "execution_count": 18,
      "outputs": []
    },
    {
      "cell_type": "code",
      "source": [
        "# classe maquina de lavar -> Padrão - FACADE\n",
        "class MaquinaDeLavar:\n",
        "\n",
        "\tdef __init__(self):\n",
        "\t\tself.lavando = Lavando()\n",
        "\t\tself.enxaguando = Enxaguando()\n",
        "\t\tself.centrifugando = Centrifugando()\n",
        "\n",
        "\tdef comecarLavar(self):\n",
        "\t\tself.lavando.lavar()\n",
        "\t\tself.enxaguando.enxaguar()\n",
        "\t\tself.centrifugando.centrifugar()"
      ],
      "metadata": {
        "id": "oGHVti--uBWt"
      },
      "execution_count": 19,
      "outputs": []
    },
    {
      "cell_type": "code",
      "source": [
        "# main\n",
        "if __name__ == \"__main__\":\n",
        "\n",
        "\tcomecarLavar = MaquinaDeLavar()\n",
        "\tcomecarLavar.comecarLavar()"
      ],
      "metadata": {
        "colab": {
          "base_uri": "https://localhost:8080/"
        },
        "id": "PuxCtTy-5tsg",
        "outputId": "ea08c29c-84c7-48b8-849a-34c73ec1089c"
      },
      "execution_count": 20,
      "outputs": [
        {
          "output_type": "stream",
          "name": "stdout",
          "text": [
            "Lavando...\n",
            "Enxaguando...\n",
            "Centrifugando...\n"
          ]
        }
      ]
    },
    {
      "cell_type": "markdown",
      "source": [
        "* FLYWEIGHT"
      ],
      "metadata": {
        "id": "pDC_5LSdtwtP"
      }
    },
    {
      "cell_type": "markdown",
      "source": [
        "Utilizado quando existe a necessidade de compartilhar uma grande quantidade de objetos idênticos com baixo consumo de memória. Portanto, a instância de um único objeto é compartilhada inúmeras vezes sem que haja a necessidade de se instanciar objetos de mesmos atributos um a um."
      ],
      "metadata": {
        "id": "2n0vguqgtzWs"
      }
    },
    {
      "cell_type": "markdown",
      "source": [
        "**Exemplo:** *Sistema que apresenta vários objetos (árvores) em diferentes locais de um mapa. Após instanciar uma quantidade elevada de objetos há uma queda no desempenho do sistema*"
      ],
      "metadata": {
        "id": "ywgzUsbAt0PL"
      }
    },
    {
      "cell_type": "code",
      "source": [
        "# classe arvore (idade, localizacao (x,y))\n",
        "class Arvore:\n",
        "\n",
        "    def informacoes(self,x,y,idade):\n",
        "        print(\"Idade da árvore: {}, Coordenadas: ({}, {})\".format(idade, x, y))"
      ],
      "metadata": {
        "id": "KnTyxSNsuRpv"
      },
      "execution_count": 34,
      "outputs": []
    },
    {
      "cell_type": "code",
      "source": [
        "# classe para gerenciar as informações da arvore\n",
        "class GerenciarArvore:\n",
        "\n",
        "    def __init__(self):\n",
        "\n",
        "        self.arvore = Arvore()\n",
        "        self.estadoArvore = {}\n",
        "    \n",
        "    def incluirEstado(self, x, y, idade):\n",
        "        if idade not in self.estadoArvore:\n",
        "            self.estadoArvore[idade] = [(x,y)]\n",
        "        elif (x,y) not in self.estadoArvore[idade][0]:\n",
        "            self.estadoArvore[idade].append((x,y))\n",
        "    \n",
        "    def informacoesArvore(self, idade, x, y):\n",
        "\n",
        "        if idade not in self.estadoArvore:\n",
        "            self.estadoArvore[idade] = [(x,y)]\n",
        "            self.arvore.informacoes(x, y, idade)\n",
        "\n",
        "        elif (x,y) not in self.estadoArvore[idade][0]:\n",
        "            self.estadoArvore[idade].append((x,y))\n",
        "            self.arvore.informacoes(x, y, idade)\n",
        "\n",
        "        else:\n",
        "            arvore.informacoesArvore(x, y, idade)\n",
        "\n",
        "    def verArvores(self):\n",
        "        for idade, coordenadas in self.estadoArvore.items():\n",
        "            for coordenada in coordenadas:\n",
        "                self.arvore.informacoes(coordenada[0], coordenada[1], idade)\n",
        "    \n",
        "    def estadoArvores(self):\n",
        "        print(self.estadoArvore)"
      ],
      "metadata": {
        "id": "ZEjOsWcZunKN"
      },
      "execution_count": 35,
      "outputs": []
    },
    {
      "cell_type": "code",
      "source": [
        "# main\n",
        "if __name__ == \"__main__\":\n",
        "\n",
        "  principal = GerenciarArvore()\n",
        "\n",
        "  principal.incluirEstado(4,1,2)\n",
        "  principal.incluirEstado(0,5,2)\n",
        "  principal.incluirEstado(4,3,5)\n",
        "  principal.incluirEstado(7,8,9)\n",
        "\n",
        "  principal.informacoesArvore(4,1,2)\n",
        "\n",
        "  principal.verArvores()\n",
        "\n",
        "  principal.estadoArvores()"
      ],
      "metadata": {
        "colab": {
          "base_uri": "https://localhost:8080/"
        },
        "id": "tp9058hBurNw",
        "outputId": "749c02d0-277a-41dc-c218-5832357f4dfc"
      },
      "execution_count": 36,
      "outputs": [
        {
          "output_type": "stream",
          "name": "stdout",
          "text": [
            "Idade da árvore: 4, Coordenadas: (1, 2)\n",
            "Idade da árvore: 2, Coordenadas: (4, 1)\n",
            "Idade da árvore: 2, Coordenadas: (0, 5)\n",
            "Idade da árvore: 5, Coordenadas: (4, 3)\n",
            "Idade da árvore: 9, Coordenadas: (7, 8)\n",
            "Idade da árvore: 4, Coordenadas: (1, 2)\n",
            "{2: [(4, 1), (0, 5)], 5: [(4, 3)], 9: [(7, 8)], 4: [(1, 2)]}\n"
          ]
        }
      ]
    },
    {
      "cell_type": "markdown",
      "source": [
        "* PROXY"
      ],
      "metadata": {
        "id": "GK9BM4iH7z5v"
      }
    },
    {
      "cell_type": "markdown",
      "source": [
        "Controla e gerencia o acesso a objetos que ele representa, i.e., adia o custo integral da criação e da inicialização do objeto até o momento em que realmente necessitamos usar o objeto. Portanto, ele deve manter uma referência para o objeto após a sua criação. "
      ],
      "metadata": {
        "id": "QFuMpiY0Bg96"
      }
    },
    {
      "cell_type": "markdown",
      "source": [
        "**Exemplo:** *Banco de dados de uma faculdade*"
      ],
      "metadata": {
        "id": "_JNLqqkQBhiN"
      }
    },
    {
      "cell_type": "code",
      "source": [
        "# classe faculdade -> consome muitos recursos\n",
        "class Faculdade:\n",
        "\n",
        "\tdef estudandoFaculdade(self):\n",
        "\t\tprint(\"Estudante na faculdade....\")"
      ],
      "metadata": {
        "id": "RPMB8YSFBlTy"
      },
      "execution_count": 43,
      "outputs": []
    },
    {
      "cell_type": "code",
      "source": [
        "# classe proxy\n",
        "class FaculdadeProxy:\n",
        "  def __init__(self):\n",
        "    self.mensalidade = 1000\n",
        "    self.faculdade = None\n",
        "  \n",
        "  def estudandoFaculdade(self):\n",
        "    print(\"Proxy em ação. Verificando se a mensalidade do aluno está claro ou não......\")\n",
        "    if self.mensalidade <= 500:\n",
        "        self.faculdade = Faculdade()\n",
        "        self.faculdade.estudandoFaculdade()\n",
        "    else:\n",
        "        print(\"Sua mensalidade é maior que 500, primeiro pague a mensalidade\")"
      ],
      "metadata": {
        "id": "WpOxT64hGZLJ"
      },
      "execution_count": 44,
      "outputs": []
    },
    {
      "cell_type": "code",
      "source": [
        "# main\n",
        "if __name__ == \"__main__\":\n",
        "\t\n",
        "\tfaculdadeProxy = FaculdadeProxy() # proxy\n",
        "\t\n",
        "\tfaculdadeProxy.estudandoFaculdade()\n",
        "\n",
        "\tfaculdadeProxy.mensalidade = 100\n",
        "\t\n",
        "\tfaculdadeProxy.estudandoFaculdade()"
      ],
      "metadata": {
        "colab": {
          "base_uri": "https://localhost:8080/"
        },
        "id": "5XX7-G5xGcMB",
        "outputId": "3fdb1948-7a5b-494e-ffca-225a117e2c36"
      },
      "execution_count": 45,
      "outputs": [
        {
          "output_type": "stream",
          "name": "stdout",
          "text": [
            "Proxy em ação. Verificando se a mensalidade do aluno está claro ou não......\n",
            "Sua mensalidade é maior que 500, primeiro pague a mensalidade\n",
            "Proxy em ação. Verificando se a mensalidade do aluno está claro ou não......\n",
            "Estudante na faculdade....\n"
          ]
        }
      ]
    }
  ]
}